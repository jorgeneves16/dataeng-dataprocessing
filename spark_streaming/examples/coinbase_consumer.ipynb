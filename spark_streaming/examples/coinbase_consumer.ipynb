{
  "cells": [
    {
      "cell_type": "markdown",
      "metadata": {
        "id": "view-in-github",
        "colab_type": "text"
      },
      "source": [
        "<a href=\"https://colab.research.google.com/github/jorgeneves16/dataeng-dataprocessing/blob/main/spark_streaming/examples/coinbase_consumer.ipynb\" target=\"_parent\"><img src=\"https://colab.research.google.com/assets/colab-badge.svg\" alt=\"Open In Colab\"/></a>"
      ]
    },
    {
      "cell_type": "markdown",
      "metadata": {
        "id": "2IZVtSO5sqa8"
      },
      "source": [
        "## Consumer Coinbase\n",
        "\n",
        "- To be executed in Google Colab\n",
        "- Connect to GCLOUD\n",
        "- Read data from GCS as streaming\n",
        "- Analyze data"
      ]
    },
    {
      "cell_type": "code",
      "execution_count": 1,
      "metadata": {
        "id": "Z8fK3AR9Nier",
        "outputId": "7944120c-8487-4b9e-c61d-5f85da9eb159",
        "colab": {
          "base_uri": "https://localhost:8080/"
        }
      },
      "outputs": [
        {
          "output_type": "stream",
          "name": "stdout",
          "text": [
            "Updated property [core/project].\n"
          ]
        }
      ],
      "source": [
        "from google.colab import auth\n",
        "auth.authenticate_user()\n",
        "\n",
        "project_id = 'data-eng-dev-437916'\n",
        "!gcloud config set project {project_id}"
      ]
    },
    {
      "cell_type": "code",
      "source": [
        "!apt-get install openjdk-11-jdk -y\n",
        "!pip install pyspark gcsfs"
      ],
      "metadata": {
        "id": "6cT6z5lr2pXP",
        "outputId": "ec39b304-f88e-4b93-a3f0-3c7a98d912db",
        "colab": {
          "base_uri": "https://localhost:8080/"
        }
      },
      "execution_count": 2,
      "outputs": [
        {
          "output_type": "stream",
          "name": "stdout",
          "text": [
            "Reading package lists... Done\n",
            "Building dependency tree... Done\n",
            "Reading state information... Done\n",
            "openjdk-11-jdk is already the newest version (11.0.27+6~us1-0ubuntu1~22.04).\n",
            "0 upgraded, 0 newly installed, 0 to remove and 35 not upgraded.\n",
            "Requirement already satisfied: pyspark in /usr/local/lib/python3.11/dist-packages (3.5.1)\n",
            "Requirement already satisfied: gcsfs in /usr/local/lib/python3.11/dist-packages (2025.3.2)\n",
            "Requirement already satisfied: py4j==0.10.9.7 in /usr/local/lib/python3.11/dist-packages (from pyspark) (0.10.9.7)\n",
            "Requirement already satisfied: aiohttp!=4.0.0a0,!=4.0.0a1 in /usr/local/lib/python3.11/dist-packages (from gcsfs) (3.11.15)\n",
            "Requirement already satisfied: decorator>4.1.2 in /usr/local/lib/python3.11/dist-packages (from gcsfs) (4.4.2)\n",
            "Requirement already satisfied: fsspec==2025.3.2 in /usr/local/lib/python3.11/dist-packages (from gcsfs) (2025.3.2)\n",
            "Requirement already satisfied: google-auth>=1.2 in /usr/local/lib/python3.11/dist-packages (from gcsfs) (2.38.0)\n",
            "Requirement already satisfied: google-auth-oauthlib in /usr/local/lib/python3.11/dist-packages (from gcsfs) (1.2.2)\n",
            "Requirement already satisfied: google-cloud-storage in /usr/local/lib/python3.11/dist-packages (from gcsfs) (2.19.0)\n",
            "Requirement already satisfied: requests in /usr/local/lib/python3.11/dist-packages (from gcsfs) (2.32.3)\n",
            "Requirement already satisfied: aiohappyeyeballs>=2.3.0 in /usr/local/lib/python3.11/dist-packages (from aiohttp!=4.0.0a0,!=4.0.0a1->gcsfs) (2.6.1)\n",
            "Requirement already satisfied: aiosignal>=1.1.2 in /usr/local/lib/python3.11/dist-packages (from aiohttp!=4.0.0a0,!=4.0.0a1->gcsfs) (1.3.2)\n",
            "Requirement already satisfied: attrs>=17.3.0 in /usr/local/lib/python3.11/dist-packages (from aiohttp!=4.0.0a0,!=4.0.0a1->gcsfs) (25.3.0)\n",
            "Requirement already satisfied: frozenlist>=1.1.1 in /usr/local/lib/python3.11/dist-packages (from aiohttp!=4.0.0a0,!=4.0.0a1->gcsfs) (1.7.0)\n",
            "Requirement already satisfied: multidict<7.0,>=4.5 in /usr/local/lib/python3.11/dist-packages (from aiohttp!=4.0.0a0,!=4.0.0a1->gcsfs) (6.6.3)\n",
            "Requirement already satisfied: propcache>=0.2.0 in /usr/local/lib/python3.11/dist-packages (from aiohttp!=4.0.0a0,!=4.0.0a1->gcsfs) (0.3.2)\n",
            "Requirement already satisfied: yarl<2.0,>=1.17.0 in /usr/local/lib/python3.11/dist-packages (from aiohttp!=4.0.0a0,!=4.0.0a1->gcsfs) (1.20.1)\n",
            "Requirement already satisfied: cachetools<6.0,>=2.0.0 in /usr/local/lib/python3.11/dist-packages (from google-auth>=1.2->gcsfs) (5.5.2)\n",
            "Requirement already satisfied: pyasn1-modules>=0.2.1 in /usr/local/lib/python3.11/dist-packages (from google-auth>=1.2->gcsfs) (0.4.2)\n",
            "Requirement already satisfied: rsa<5,>=3.1.4 in /usr/local/lib/python3.11/dist-packages (from google-auth>=1.2->gcsfs) (4.9.1)\n",
            "Requirement already satisfied: requests-oauthlib>=0.7.0 in /usr/local/lib/python3.11/dist-packages (from google-auth-oauthlib->gcsfs) (2.0.0)\n",
            "Requirement already satisfied: google-api-core<3.0.0dev,>=2.15.0 in /usr/local/lib/python3.11/dist-packages (from google-cloud-storage->gcsfs) (2.25.1)\n",
            "Requirement already satisfied: google-cloud-core<3.0dev,>=2.3.0 in /usr/local/lib/python3.11/dist-packages (from google-cloud-storage->gcsfs) (2.4.3)\n",
            "Requirement already satisfied: google-resumable-media>=2.7.2 in /usr/local/lib/python3.11/dist-packages (from google-cloud-storage->gcsfs) (2.7.2)\n",
            "Requirement already satisfied: google-crc32c<2.0dev,>=1.0 in /usr/local/lib/python3.11/dist-packages (from google-cloud-storage->gcsfs) (1.7.1)\n",
            "Requirement already satisfied: charset-normalizer<4,>=2 in /usr/local/lib/python3.11/dist-packages (from requests->gcsfs) (3.4.2)\n",
            "Requirement already satisfied: idna<4,>=2.5 in /usr/local/lib/python3.11/dist-packages (from requests->gcsfs) (3.10)\n",
            "Requirement already satisfied: urllib3<3,>=1.21.1 in /usr/local/lib/python3.11/dist-packages (from requests->gcsfs) (2.4.0)\n",
            "Requirement already satisfied: certifi>=2017.4.17 in /usr/local/lib/python3.11/dist-packages (from requests->gcsfs) (2025.6.15)\n",
            "Requirement already satisfied: googleapis-common-protos<2.0.0,>=1.56.2 in /usr/local/lib/python3.11/dist-packages (from google-api-core<3.0.0dev,>=2.15.0->google-cloud-storage->gcsfs) (1.70.0)\n",
            "Requirement already satisfied: protobuf!=3.20.0,!=3.20.1,!=4.21.0,!=4.21.1,!=4.21.2,!=4.21.3,!=4.21.4,!=4.21.5,<7.0.0,>=3.19.5 in /usr/local/lib/python3.11/dist-packages (from google-api-core<3.0.0dev,>=2.15.0->google-cloud-storage->gcsfs) (5.29.5)\n",
            "Requirement already satisfied: proto-plus<2.0.0,>=1.22.3 in /usr/local/lib/python3.11/dist-packages (from google-api-core<3.0.0dev,>=2.15.0->google-cloud-storage->gcsfs) (1.26.1)\n",
            "Requirement already satisfied: pyasn1<0.7.0,>=0.6.1 in /usr/local/lib/python3.11/dist-packages (from pyasn1-modules>=0.2.1->google-auth>=1.2->gcsfs) (0.6.1)\n",
            "Requirement already satisfied: oauthlib>=3.0.0 in /usr/local/lib/python3.11/dist-packages (from requests-oauthlib>=0.7.0->google-auth-oauthlib->gcsfs) (3.3.1)\n"
          ]
        }
      ]
    },
    {
      "cell_type": "code",
      "source": [
        "from pyspark.sql import SparkSession\n",
        "\n",
        "GCS_JAR = \"https://repo1.maven.org/maven2/com/google/cloud/bigdataoss/gcs-connector/hadoop3-2.2.9/gcs-connector-hadoop3-2.2.9-shaded.jar\"\n",
        "\n",
        "spark = SparkSession.builder \\\n",
        "    .appName(\"GCSStreamingDemo\") \\\n",
        "    .config(\"spark.jars\", GCS_JAR) \\\n",
        "    .config(\"spark.hadoop.fs.gs.impl\", \"com.google.cloud.hadoop.fs.gcs.GoogleHadoopFileSystem\") \\\n",
        "    .config(\"spark.hadoop.fs.AbstractFileSystem.gs.impl\", \"com.google.cloud.hadoop.fs.gcs.GoogleHadoopFS\") \\\n",
        "    .getOrCreate()"
      ],
      "metadata": {
        "id": "a1ZMmma311bT"
      },
      "execution_count": 147,
      "outputs": []
    },
    {
      "cell_type": "code",
      "source": [
        "from pyspark.sql import SparkSession\n",
        "from pyspark.sql.functions import col\n",
        "\n",
        "schema = \"type STRING, sequence LONG, product_id STRING, price STRING, time STRING\"\n",
        "\n",
        "df = spark.readStream.schema(schema).json(\"gs://edit-data-eng-dev/datalake/landing/btc/\")\n",
        "\n",
        "# write to memory\n",
        "# stream = df.select(\"time\", \"product_id\", col(\"price\").cast(\"double\")) \\\n",
        "#   .writeStream \\\n",
        "#   .outputMode(\"append\") \\\n",
        "#   .queryName(\"btc_price_stream10\") \\\n",
        "#   .format(\"memory\") \\\n",
        "#   .start()\n",
        "\n",
        "# write parquet\n",
        "stream = df.select(\"time\", \"product_id\", col(\"price\").cast(\"double\")) \\\n",
        "  .writeStream \\\n",
        "  .outputMode(\"append\") \\\n",
        "  .format(\"parquet\") \\\n",
        "  .option(\"path\", \"gs://edit-data-eng-dev/datalake/bronze/btc/\") \\\n",
        "  .option(\"checkpointLocation\", \"gs://edit-data-eng-dev/datalake/bronze/btc/checkpoint\") \\\n",
        "  .start()"
      ],
      "metadata": {
        "id": "sI5QvFufsYMl"
      },
      "execution_count": 320,
      "outputs": []
    },
    {
      "cell_type": "code",
      "source": [
        "stream.stop()"
      ],
      "metadata": {
        "id": "SN9sDKj0Uw4W"
      },
      "execution_count": 323,
      "outputs": []
    },
    {
      "cell_type": "code",
      "source": [
        "!gsutil ls gs://edit-data-eng-dev/datalake/landing/btc/ | wc"
      ],
      "metadata": {
        "id": "CzjlCF8ZQ9r_",
        "outputId": "b97de705-685a-4ceb-ecb3-bc615e7582c0",
        "colab": {
          "base_uri": "https://localhost:8080/"
        }
      },
      "execution_count": 149,
      "outputs": [
        {
          "output_type": "stream",
          "name": "stdout",
          "text": [
            "    598     598   44252\n"
          ]
        }
      ]
    },
    {
      "cell_type": "code",
      "source": [
        "stream.isActive"
      ],
      "metadata": {
        "id": "t8nx_lOyReEk",
        "outputId": "260957e0-05ee-465c-d602-2c0d146e434a",
        "colab": {
          "base_uri": "https://localhost:8080/"
        }
      },
      "execution_count": 304,
      "outputs": [
        {
          "output_type": "execute_result",
          "data": {
            "text/plain": [
              "True"
            ]
          },
          "metadata": {},
          "execution_count": 304
        }
      ]
    },
    {
      "cell_type": "code",
      "source": [
        "from pyspark.sql.functions import *\n",
        "df = spark.sql(\"select * from btc_price_stream10\")\n",
        "df.show()"
      ],
      "metadata": {
        "id": "14Qs0vD9soxp",
        "outputId": "fa6b7dda-0432-4807-a0c2-2e755a3c5cc8",
        "colab": {
          "base_uri": "https://localhost:8080/"
        }
      },
      "execution_count": 302,
      "outputs": [
        {
          "output_type": "stream",
          "name": "stdout",
          "text": [
            "+--------------------+----------+---------+\n",
            "|                time|product_id|    price|\n",
            "+--------------------+----------+---------+\n",
            "|2025-07-05T10:20:...|   BTC-USD|108163.06|\n",
            "|2025-07-05T10:21:...|   BTC-USD|108163.06|\n",
            "|2025-07-05T10:21:...|   BTC-USD|108163.06|\n",
            "|2025-07-05T10:20:...|   BTC-USD|108163.06|\n",
            "|2025-07-05T10:21:...|   BTC-USD|108163.06|\n",
            "|2025-07-05T10:20:...|   BTC-USD|108163.06|\n",
            "|2025-07-05T10:21:...|   BTC-USD|108163.06|\n",
            "|2025-07-05T10:21:...|   BTC-USD|108163.06|\n",
            "|2025-07-05T10:21:...|   BTC-USD|108163.06|\n",
            "|2025-07-05T10:21:...|   BTC-USD|108163.06|\n",
            "|2025-07-05T10:21:...|   BTC-USD|108163.06|\n",
            "|2025-07-05T10:21:...|   BTC-USD|108156.85|\n",
            "|2025-07-05T10:21:...|   BTC-USD|108156.85|\n",
            "|2025-07-05T10:21:...|   BTC-USD|108156.85|\n",
            "|2025-07-05T10:21:...|   BTC-USD|108156.85|\n",
            "|2025-07-05T10:21:...|   BTC-USD|108156.85|\n",
            "|2025-07-05T10:22:...|   BTC-USD|108156.85|\n",
            "|2025-07-05T10:22:...|   BTC-USD|108171.17|\n",
            "|2025-07-05T10:22:...|   BTC-USD|108171.17|\n",
            "|2025-07-05T10:21:...|   BTC-USD|108163.06|\n",
            "+--------------------+----------+---------+\n",
            "only showing top 20 rows\n",
            "\n"
          ]
        }
      ]
    },
    {
      "cell_type": "code",
      "source": [
        "# Analysis\n",
        "\n",
        "# Latest Bitcoin price\n",
        "# Calculate average BTC price per minute\n",
        "# Calculate standard deviation of price over time\n",
        "# How many price tickets per minute?\n",
        "# Find anomalies (price == nulls or with strange values)"
      ],
      "metadata": {
        "id": "9nFC7Sqbw_NF"
      },
      "execution_count": null,
      "outputs": []
    },
    {
      "cell_type": "code",
      "source": [
        "from pyspark.sql.functions import *"
      ],
      "metadata": {
        "id": "qpfn2JrPN3py"
      },
      "execution_count": 172,
      "outputs": []
    },
    {
      "cell_type": "code",
      "source": [
        "import pyspark.sql.functions as f\n",
        "from pyspark.sql.window import Window\n",
        "\n",
        "# Latest Bitcoin price\n",
        "df = spark.sql(\"select * from btc_price_stream10 where product_id = 'BTC-USD' order by time desc limit 1\");\n",
        "df.show()\n",
        "\n",
        "import pyspark.sql.functions as f\n",
        "from pyspark.sql.window import Window\n",
        "windowSpec = Window.partitionBy(\"product_id\").orderBy(\"time\")\n",
        "df2 = df.filter(\"product_id=='BTC-USD'\").withColumn(\"last_price\", f.first(\"price\").over(windowSpec))\n",
        "df2.filter(f.col(\"last_price\") == f.col(\"price\"))\n",
        "df2.show()"
      ],
      "metadata": {
        "id": "diZGKYOoNFoB",
        "outputId": "7c344a2f-9118-4452-d00b-4fc8566969d6",
        "colab": {
          "base_uri": "https://localhost:8080/"
        }
      },
      "execution_count": 309,
      "outputs": [
        {
          "output_type": "stream",
          "name": "stdout",
          "text": [
            "+--------------------+----------+---------+\n",
            "|                time|product_id|    price|\n",
            "+--------------------+----------+---------+\n",
            "|2025-07-05T10:23:...|   BTC-USD|108172.43|\n",
            "+--------------------+----------+---------+\n",
            "\n",
            "+--------------------+----------+---------+----------+\n",
            "|                time|product_id|    price|last_price|\n",
            "+--------------------+----------+---------+----------+\n",
            "|2025-07-05T10:23:...|   BTC-USD|108172.33| 108172.33|\n",
            "+--------------------+----------+---------+----------+\n",
            "\n"
          ]
        }
      ]
    },
    {
      "cell_type": "code",
      "source": [
        "# Calculate average BTC price per minute\n",
        "df.filter(\"product_id=='BTC-USD'\").groupBy(window(\"time\", \"1 minute\")).agg(avg(\"price\")).show()"
      ],
      "metadata": {
        "id": "afz1IEikNsSR",
        "outputId": "e6f675d0-4864-45ed-df3a-6814c304e9c8",
        "colab": {
          "base_uri": "https://localhost:8080/"
        }
      },
      "execution_count": 306,
      "outputs": [
        {
          "output_type": "stream",
          "name": "stdout",
          "text": [
            "+--------------------+----------+\n",
            "|              window|avg(price)|\n",
            "+--------------------+----------+\n",
            "|{2025-07-05 10:23...| 108172.44|\n",
            "+--------------------+----------+\n",
            "\n"
          ]
        }
      ]
    },
    {
      "cell_type": "code",
      "source": [
        "#Calculate standard deviation of price over time\n",
        "\n",
        "df.filter(\"product_id=='BTC-USD'\").groupBy(window(\"time\", \"1 minute\")).agg(stddev(\"price\")).show(10, False)"
      ],
      "metadata": {
        "id": "9jL-ACoRTXmk",
        "outputId": "f01b0b62-f5d0-4c29-b857-49fb99bde873",
        "colab": {
          "base_uri": "https://localhost:8080/"
        }
      },
      "execution_count": 308,
      "outputs": [
        {
          "output_type": "stream",
          "name": "stdout",
          "text": [
            "+------------------------------------------+-------------+\n",
            "|window                                    |stddev(price)|\n",
            "+------------------------------------------+-------------+\n",
            "|{2025-07-05 10:23:00, 2025-07-05 10:24:00}|NULL         |\n",
            "+------------------------------------------+-------------+\n",
            "\n"
          ]
        }
      ]
    },
    {
      "cell_type": "code",
      "source": [
        "#How many price tickets per minute?\n",
        "\n",
        "df.groupBy(window(\"time\", \"1 minute\"), \"product_id\").agg(count(lit(\"1\")).alias(\"count\")).orderBy(\"window\", \"product_id\").show(10, False)"
      ],
      "metadata": {
        "id": "lxZSeQUcTd8C"
      },
      "execution_count": null,
      "outputs": []
    },
    {
      "cell_type": "code",
      "source": [
        "#Find anomalies (price == nulls or with strange values)\n",
        "df.filter(\"product_id=='BTC-USD'\").filter((f.col(\"price\").isNull()) | (col(\"price\") > 1000000)).show()"
      ],
      "metadata": {
        "id": "jWAcfEqDUDrF",
        "outputId": "1f62a94e-4a9d-4293-a81b-d544fd166ec0",
        "colab": {
          "base_uri": "https://localhost:8080/"
        }
      },
      "execution_count": 311,
      "outputs": [
        {
          "output_type": "stream",
          "name": "stdout",
          "text": [
            "+----+----------+-----+\n",
            "|time|product_id|price|\n",
            "+----+----------+-----+\n",
            "+----+----------+-----+\n",
            "\n"
          ]
        }
      ]
    },
    {
      "cell_type": "code",
      "source": [
        "# count and average per product_id\n",
        "df.groupBy(\"product_id\").agg(count(lit(\"1\")).alias(\"count\"), avg(\"price\").alias(\"avg_price\")).show()"
      ],
      "metadata": {
        "id": "fo8mqbXv6TPT",
        "outputId": "ad810ecc-ad89-4701-c1b0-6ec23fdeea6e",
        "colab": {
          "base_uri": "https://localhost:8080/"
        }
      },
      "execution_count": 134,
      "outputs": [
        {
          "output_type": "stream",
          "name": "stdout",
          "text": [
            "+----------+-----+---------+\n",
            "|product_id|count|avg_price|\n",
            "+----------+-----+---------+\n",
            "|   BTC-USD|    1|108168.51|\n",
            "+----------+-----+---------+\n",
            "\n"
          ]
        }
      ]
    }
  ],
  "metadata": {
    "colab": {
      "provenance": [],
      "include_colab_link": true
    },
    "kernelspec": {
      "display_name": "Python 3",
      "name": "python3"
    },
    "language_info": {
      "name": "python"
    }
  },
  "nbformat": 4,
  "nbformat_minor": 0
}