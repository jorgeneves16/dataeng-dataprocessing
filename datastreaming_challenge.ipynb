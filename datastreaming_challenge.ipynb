{
  "cells": [
    {
      "cell_type": "markdown",
      "metadata": {
        "id": "view-in-github",
        "colab_type": "text"
      },
      "source": [
        "<a href=\"https://colab.research.google.com/github/jorgeneves16/dataeng-dataprocessing/blob/main/datastreaming_challenge.ipynb\" target=\"_parent\"><img src=\"https://colab.research.google.com/assets/colab-badge.svg\" alt=\"Open In Colab\"/></a>"
      ]
    },
    {
      "cell_type": "markdown",
      "metadata": {
        "id": "4_GBE9UsyxwK"
      },
      "source": []
    },
    {
      "cell_type": "markdown",
      "metadata": {
        "id": "d9LeYFsPTjAb"
      },
      "source": [
        "# Setting up PySpark"
      ]
    },
    {
      "cell_type": "code",
      "execution_count": 3,
      "metadata": {
        "id": "uYXeODL0T1fO",
        "colab": {
          "base_uri": "https://localhost:8080/"
        },
        "outputId": "412db39c-a8e1-4b67-c8cb-37c9e49c04b2"
      },
      "outputs": [
        {
          "output_type": "stream",
          "name": "stdout",
          "text": [
            "Requirement already satisfied: pyspark in /usr/local/lib/python3.11/dist-packages (3.5.1)\n",
            "Requirement already satisfied: py4j==0.10.9.7 in /usr/local/lib/python3.11/dist-packages (from pyspark) (0.10.9.7)\n"
          ]
        }
      ],
      "source": [
        "%pip install pyspark"
      ]
    },
    {
      "cell_type": "markdown",
      "metadata": {
        "id": "Rcybt71kTDNt"
      },
      "source": [
        "# Context\n",
        "Message events are coming from platform message broker (kafka, pubsub, kinesis...).\n",
        "You need to process the data according to the requirements.\n",
        "\n",
        "Message schema:\n",
        "- timestamp\n",
        "- value\n",
        "- event_type\n",
        "- message_id\n",
        "- country_id\n",
        "- user_id\n",
        "\n"
      ]
    },
    {
      "cell_type": "markdown",
      "metadata": {
        "id": "JkyPORKNSYvV"
      },
      "source": [
        "# Challenge 1\n",
        "\n",
        "Step 1\n",
        "- Change exising producer\n",
        "\t- Change parquet location to \"/content/lake/bronze/messages/data\"\n",
        "\t- Add checkpoint (/content/lake/bronze/messages/checkpoint)\n",
        "\t- Delete /content/lake/bronze/messages and reprocess data\n",
        "\t- For reprocessing, run the streaming for at least 1 minute, then stop it\n",
        "\n",
        "Step 2\n",
        "- Implement new stream job to read from messages in bronze layer and split result in two locations\n",
        "\t- \"messages_corrupted\"\n",
        "\t\t- logic: event_status is null, empty or equal to \"NONE\"\n",
        "    - extra logic: add country name by joining message with countries dataset\n",
        "\t\t- partition by \"date\" -extract it from timestamp\n",
        "\t\t- location: /content/lake/silver/messages_corrupted/data\n",
        "\n",
        "\t- \"messages\"\n",
        "\t\t- logic: not corrupted data\n",
        "\t\t- extra logic: add country name by joining message with countries dataset\n",
        "\t\t- partition by \"date\" -extract it from timestamp\n",
        "\t\t- location: /content/lake/silver/messages/data\n",
        "\n",
        "\t- technical requirements\n",
        "\t\t- add checkpint (choose location)\n",
        "\t\t- use StructSchema\n",
        "\t\t- Set trigger interval to 5 seconds\n",
        "\t\t- run streaming for at least 20 seconds, then stop it\n",
        "\n",
        "\t- alternatives\n",
        "\t\t- implementing single streaming job with foreach/- foreachBatch logic to write into two locations\n",
        "\t\t- implementing two streaming jobs, one for messages and another for messages_corrupted\n",
        "\t\t- (paying attention on the paths and checkpoints)\n",
        "\n",
        "\n",
        "  - Check results:\n",
        "    - results from messages in bronze layer should match with the sum of messages+messages_corrupted in the silver layer"
      ]
    },
    {
      "cell_type": "code",
      "execution_count": 4,
      "metadata": {
        "id": "Udk3tohSaXOH",
        "colab": {
          "base_uri": "https://localhost:8080/"
        },
        "outputId": "6b28d83d-8a2e-4a21-c5ae-7328a98b3777"
      },
      "outputs": [
        {
          "output_type": "stream",
          "name": "stdout",
          "text": [
            "Requirement already satisfied: faker in /usr/local/lib/python3.11/dist-packages (37.4.0)\n",
            "Requirement already satisfied: tzdata in /usr/local/lib/python3.11/dist-packages (from faker) (2025.2)\n"
          ]
        }
      ],
      "source": [
        "%pip install faker"
      ]
    },
    {
      "cell_type": "code",
      "source": [
        "import pyspark.sql.functions as F\n",
        "from pyspark.sql import DataFrame\n",
        "from faker import Faker\n",
        "from pyspark.sql import SparkSession\n",
        "\n",
        "spark = SparkSession.builder.appName('Test streaming').getOrCreate()\n",
        "sc = spark.sparkContext"
      ],
      "metadata": {
        "id": "HV7j0eHsDElN"
      },
      "execution_count": 1,
      "outputs": []
    },
    {
      "cell_type": "markdown",
      "metadata": {
        "id": "cDGMKwBdi1qy"
      },
      "source": [
        "# Producer"
      ]
    },
    {
      "cell_type": "code",
      "execution_count": 2,
      "metadata": {
        "id": "tPCOdivrfhYh",
        "colab": {
          "base_uri": "https://localhost:8080/"
        },
        "outputId": "7109baf7-c8a4-4f27-b305-3121a2b9f08c"
      },
      "outputs": [
        {
          "output_type": "stream",
          "name": "stdout",
          "text": [
            "Old data deleted with success.\n",
            "Event producing ended.\n"
          ]
        }
      ],
      "source": [
        "import pyspark.sql.functions as F\n",
        "from pyspark.sql import DataFrame\n",
        "from faker import Faker\n",
        "from pyspark.sql import SparkSession\n",
        "\n",
        "fake = Faker()\n",
        "messages = [fake.uuid4() for _ in range(50)]\n",
        "\n",
        "def enrich_data(df, messages=messages):\n",
        "  fake = Faker()\n",
        "  new_columns = {\n",
        "      'event_type': F.lit(fake.random_element(elements=('OPEN', 'RECEIVED', 'SENT', 'CREATED', 'CLICKED', '', 'NONE'))),\n",
        "      'message_id': F.lit(fake.random_element(elements=messages)),\n",
        "      'channel': F.lit(fake.random_element(elements=('CHAT', 'EMAIL', 'SMS', 'PUSH', 'OTHER'))),\n",
        "      'country_id': F.lit(fake.random_int(min=2000, max=2015)),\n",
        "      'user_id': F.lit(fake.random_int(min=1000, max=1050)),\n",
        "  }\n",
        "  df = df.withColumns(new_columns)\n",
        "  return df\n",
        "\n",
        "def insert_messages(df: DataFrame, batch_id):\n",
        "  enrich = enrich_data(df)\n",
        "  enrich.write.mode(\"append\").format(\"parquet\").save(\"content/lake/bronze/messages/data\")\n",
        "\n",
        "\n",
        "\n",
        "# Delete old directory data\n",
        "import shutil\n",
        "import os\n",
        "base_path = \"content/lake/bronze/messages/\"\n",
        "if os.path.exists(base_path):\n",
        "    shutil.rmtree(base_path)\n",
        "    print(\"Old data deleted with success.\")\n",
        "\n",
        "# read stream\n",
        "df_stream = spark.readStream.format(\"rate\").option(\"rowsPerSecond\", 1).load()\n",
        "\n",
        "# write stream\n",
        "query = (df_stream.writeStream\n",
        ".outputMode('append')\n",
        ".option('checkpointLocation', 'content/lake/bronze/messages/checkpoint')\n",
        ".trigger(processingTime='1 seconds')\n",
        ".foreachBatch(insert_messages)\n",
        ".start()\n",
        ")\n",
        "\n",
        "query.awaitTermination(60)\n",
        "print(\"Event producing ended.\")"
      ]
    },
    {
      "cell_type": "code",
      "execution_count": 3,
      "metadata": {
        "id": "KNyUK3yplDhg"
      },
      "outputs": [],
      "source": [
        "query.stop()"
      ]
    },
    {
      "cell_type": "code",
      "execution_count": 6,
      "metadata": {
        "id": "ZWQExsnzlMFe",
        "colab": {
          "base_uri": "https://localhost:8080/"
        },
        "outputId": "4a04caa5-e38f-4738-ff2b-4e7aa4992afd"
      },
      "outputs": [
        {
          "output_type": "stream",
          "name": "stdout",
          "text": [
            "+--------------------+-----+----------+--------------------+-------+----------+-------+\n",
            "|           timestamp|value|event_type|          message_id|channel|country_id|user_id|\n",
            "+--------------------+-----+----------+--------------------+-------+----------+-------+\n",
            "|2025-07-05 14:54:...|    1|          |ec9f31d9-a72f-47d...|    SMS|      2007|   1016|\n",
            "|2025-07-05 14:54:...|    3|          |ec9f31d9-a72f-47d...|    SMS|      2007|   1016|\n",
            "|2025-07-05 14:54:...|    5|          |ec9f31d9-a72f-47d...|    SMS|      2007|   1016|\n",
            "|2025-07-05 14:54:...|    0|          |ec9f31d9-a72f-47d...|    SMS|      2007|   1016|\n",
            "|2025-07-05 14:54:...|    2|          |ec9f31d9-a72f-47d...|    SMS|      2007|   1016|\n",
            "|2025-07-05 14:54:...|    4|          |ec9f31d9-a72f-47d...|    SMS|      2007|   1016|\n",
            "|2025-07-05 14:55:...|   27|  RECEIVED|9bca5d73-8c7b-4ae...|  EMAIL|      2004|   1039|\n",
            "|2025-07-05 14:54:...|    9|  RECEIVED|1add1028-1d56-4d0...|  EMAIL|      2000|   1021|\n",
            "|2025-07-05 14:55:...|   55|  RECEIVED|ec9f31d9-a72f-47d...|  OTHER|      2007|   1040|\n",
            "|2025-07-05 14:54:...|   20|  RECEIVED|da55d4ba-5c02-478...|  EMAIL|      2009|   1004|\n",
            "|2025-07-05 14:55:...|   49|  RECEIVED|2c537c2c-c37e-4b4...|   CHAT|      2006|   1026|\n",
            "|2025-07-05 14:54:...|   16|  RECEIVED|6152f872-ad9d-4ea...|   PUSH|      2010|   1042|\n",
            "|2025-07-05 14:55:...|   28|   CLICKED|714da4c9-d9b0-46f...|  EMAIL|      2002|   1011|\n",
            "|2025-07-05 14:54:...|   25|   CREATED|cd3479d4-bd44-4bd...|  OTHER|      2015|   1046|\n",
            "|2025-07-05 14:55:...|   50|   CREATED|f0f19e57-0560-4ed...|  OTHER|      2003|   1023|\n",
            "|2025-07-05 14:55:...|   42|  RECEIVED|a077b325-0afc-414...|   PUSH|      2015|   1038|\n",
            "|2025-07-05 14:55:...|   30|   CLICKED|51bbbb37-94eb-46c...|  OTHER|      2014|   1001|\n",
            "|2025-07-05 14:55:...|   45|   CLICKED|6711d1fe-aa38-447...|   PUSH|      2006|   1025|\n",
            "|2025-07-05 14:55:...|   41|   CREATED|6e4b6d4c-bf86-445...|   CHAT|      2001|   1001|\n",
            "|2025-07-05 14:55:...|   56|   CREATED|714da4c9-d9b0-46f...|   PUSH|      2013|   1037|\n",
            "+--------------------+-----+----------+--------------------+-------+----------+-------+\n",
            "only showing top 20 rows\n",
            "\n"
          ]
        }
      ],
      "source": [
        "df = spark.read.format(\"parquet\").load(\"content/lake/bronze/messages/data/\")\n",
        "\n",
        "df.show()"
      ]
    },
    {
      "cell_type": "markdown",
      "metadata": {
        "id": "RraxHCycMdEZ"
      },
      "source": [
        "# Additional datasets"
      ]
    },
    {
      "cell_type": "code",
      "execution_count": 5,
      "metadata": {
        "id": "cfsus3dxMcQI"
      },
      "outputs": [],
      "source": [
        "countries = [\n",
        "    {\"country_id\": 2000, \"country\": \"Brazil\"},\n",
        "    {\"country_id\": 2001, \"country\": \"Portugal\"},\n",
        "    {\"country_id\": 2002, \"country\": \"Spain\"},\n",
        "    {\"country_id\": 2003, \"country\": \"Germany\"},\n",
        "    {\"country_id\": 2004, \"country\": \"France\"},\n",
        "    {\"country_id\": 2005, \"country\": \"Italy\"},\n",
        "    {\"country_id\": 2006, \"country\": \"United Kingdom\"},\n",
        "    {\"country_id\": 2007, \"country\": \"United States\"},\n",
        "    {\"country_id\": 2008, \"country\": \"Canada\"},\n",
        "    {\"country_id\": 2009, \"country\": \"Australia\"},\n",
        "    {\"country_id\": 2010, \"country\": \"Japan\"},\n",
        "    {\"country_id\": 2011, \"country\": \"China\"},\n",
        "    {\"country_id\": 2012, \"country\": \"India\"},\n",
        "    {\"country_id\": 2013, \"country\": \"South Korea\"},\n",
        "    {\"country_id\": 2014, \"country\": \"Russia\"},\n",
        "    {\"country_id\": 2015, \"country\": \"Argentina\"}\n",
        "]\n",
        "\n",
        "countries = spark.createDataFrame(countries)"
      ]
    },
    {
      "cell_type": "markdown",
      "metadata": {
        "id": "Pg2nx03_Sn62"
      },
      "source": []
    },
    {
      "cell_type": "markdown",
      "metadata": {
        "id": "swvPj9hVpzNf"
      },
      "source": [
        "# Streaming Messages x Messages Corrupted"
      ]
    },
    {
      "cell_type": "code",
      "source": [
        "from pyspark.sql import SparkSession, DataFrame\n",
        "from pyspark.sql.functions import col, to_date\n",
        "from pyspark.sql.types import *\n",
        "\n",
        "# 1. Spark Session\n",
        "def create_spark_session(app_name=\"Streaming Job\"):\n",
        "    return SparkSession.builder.master(\"local\").appName(app_name).getOrCreate()\n",
        "\n",
        "# 2. Schema definition\n",
        "def get_message_schema():\n",
        "    return StructType([\n",
        "        StructField(\"timestamp\", TimestampType(), True),\n",
        "        StructField(\"event_type\", StringType(), True),\n",
        "        StructField(\"message_id\", StringType(), True),\n",
        "        StructField(\"channel\", StringType(), True),\n",
        "        StructField(\"country_id\", IntegerType(), True),\n",
        "        StructField(\"user_id\", IntegerType(), True)\n",
        "    ])\n",
        "\n",
        "# 3. Read stream from bronze\n",
        "def read_bronze_stream(spark: SparkSession, schema: StructType, path: str) -> DataFrame:\n",
        "    return (spark.readStream\n",
        "        .schema(schema)\n",
        "        .format(\"parquet\")\n",
        "        .load(path)\n",
        "    )\n",
        "\n",
        "# 4. Filter logic\n",
        "def filter_messages(df: DataFrame, is_corrupted=True) -> DataFrame:\n",
        "    if is_corrupted:\n",
        "        return df.filter(\n",
        "            col(\"event_type\").isNull() |\n",
        "            (col(\"event_type\") == \"\") |\n",
        "            (col(\"event_type\") == \"NONE\")\n",
        "        )\n",
        "    else:\n",
        "        return df.filter(\n",
        "            col(\"event_type\").isNotNull() &\n",
        "            (col(\"event_type\") != \"\") &\n",
        "            (col(\"event_type\") != \"NONE\")\n",
        "        )\n",
        "\n",
        "# 5. Join with countries and add partition date\n",
        "def enrich_and_partition(df: DataFrame, countries_df: DataFrame) -> DataFrame:\n",
        "    return (df.join(countries_df, on=\"country_id\", how=\"left\")\n",
        "             .withColumn(\"date\", to_date(col(\"timestamp\"))))\n",
        "\n",
        "# 6. Write stream to silver\n",
        "def write_to_silver(df: DataFrame, path: str, checkpoint_path: str):\n",
        "    return (df.writeStream\n",
        "        .format(\"parquet\")\n",
        "        .option(\"path\", path)\n",
        "        .option(\"checkpointLocation\", checkpoint_path)\n",
        "        .partitionBy(\"date\")\n",
        "        .outputMode(\"append\")\n",
        "        .trigger(processingTime=\"5 seconds\")\n",
        "        .start()\n",
        "    )\n",
        "\n",
        "\n",
        "# Setup\n",
        "spark = create_spark_session(\"Messages Processor\")\n",
        "schema = get_message_schema()\n",
        "\n",
        "# Read of bronze layer data\n",
        "df_stream = read_bronze_stream(spark, schema, \"content/lake/bronze/messages/data/\")\n",
        "\n",
        "# Valid messages:\n",
        "df_valid = filter_messages(df_stream, is_corrupted=False)\n",
        "df_valid_enriched = enrich_and_partition(df_valid, countries)\n",
        "query_valid = write_to_silver(\n",
        "    df_valid_enriched,\n",
        "    \"content/lake/silver/messages/data\",\n",
        "    \"content/lake/silver/messages/checkpoint\"\n",
        ")\n",
        "\n",
        "# Corrupted messages:\n",
        "df_corrupted = filter_messages(df_stream, is_corrupted=True)\n",
        "df_corrupted_enriched = enrich_and_partition(df_corrupted, countries)\n",
        "query_corrupted = write_to_silver(\n",
        "    df_corrupted_enriched,\n",
        "    \"content/lake/silver/messages_corrupted/data\",\n",
        "    \"content/lake/silver/messages_corrupted/checkpoint\"\n",
        ")\n",
        "\n",
        "query_valid.awaitTermination(20)\n",
        "query_corrupted.awaitTermination(20)\n"
      ],
      "metadata": {
        "id": "neriGId-MFNo"
      },
      "execution_count": 6,
      "outputs": []
    },
    {
      "cell_type": "code",
      "source": [
        "query.stop()"
      ],
      "metadata": {
        "id": "H5KjNzv76ZU4"
      },
      "execution_count": 13,
      "outputs": []
    },
    {
      "cell_type": "code",
      "source": [
        "# Delete old directory data\n",
        "import shutil\n",
        "import os\n",
        "base_path = \"content/lake/silver/\"\n",
        "if os.path.exists(base_path):\n",
        "    shutil.rmtree(base_path)\n",
        "    print(\"Old data deleted with success.\")"
      ],
      "metadata": {
        "id": "OS-gvg14GK2L"
      },
      "execution_count": 4,
      "outputs": []
    },
    {
      "cell_type": "markdown",
      "metadata": {
        "id": "jLK9jpjCu3xE"
      },
      "source": [
        "## Checking data"
      ]
    },
    {
      "cell_type": "code",
      "execution_count": 7,
      "metadata": {
        "id": "nk8seEvbmvcU",
        "colab": {
          "base_uri": "https://localhost:8080/"
        },
        "outputId": "d2510002-2b1e-47fb-e558-65fa74e9b3d7"
      },
      "outputs": [
        {
          "output_type": "stream",
          "name": "stdout",
          "text": [
            "Bronze count: 58\n",
            "Silver valid count: 39\n",
            "Silver corrupted count: 19\n",
            "Total Silver count: 58\n",
            "Valid data: bronze == silver valid + silver corrupted\n"
          ]
        }
      ],
      "source": [
        "df_bronze = spark.read.format(\"parquet\").load(\"content/lake/bronze/messages/data/\")\n",
        "bronze_count = df_bronze.count()\n",
        "print(\"Bronze count:\", bronze_count)\n",
        "\n",
        "df_valid = spark.read.format(\"parquet\").load(\"content/lake/silver/messages/data/\")\n",
        "valid_count = df_valid.count()\n",
        "print(\"Silver valid count:\", valid_count)\n",
        "\n",
        "df_corrupted = spark.read.format(\"parquet\").load(\"content/lake/silver/messages_corrupted/data/\")\n",
        "corrupted_count = df_corrupted.count()\n",
        "print(\"Silver corrupted count:\", corrupted_count)\n",
        "\n",
        "total_silver = valid_count + corrupted_count\n",
        "print(\"Total Silver count:\", total_silver)\n",
        "\n",
        "if bronze_count == total_silver:\n",
        "    print(\"Valid data: bronze == silver valid + silver corrupted\")\n",
        "else:\n",
        "    print(\"Inconsistent: silver total data is not consistent with bronze data\")\n"
      ]
    },
    {
      "cell_type": "markdown",
      "metadata": {
        "id": "rfxIlBISSvRP"
      },
      "source": [
        "# Challenge 2\n",
        "\n",
        "- Run business report\n",
        "- But first, there is a bug in the system which is causing some duplicated messages, we need to exclude these lines from the report\n",
        "\n",
        "- removing duplicates logic:\n",
        "  - Identify possible duplicates on message_id, event_type and channel\n",
        "  - in case of duplicates, consider only the first message (occurrence by timestamp)\n",
        "  - Ex:\n",
        "    In table below, the correct message to consider is the second line\n",
        "\n",
        "```\n",
        "    message_id | channel | event_type | timestamp\n",
        "    123        | CHAT    | CREATED    | 10:10:01\n",
        "    123        | CHAT    | CREATED    | 07:56:45 (first occurrence)\n",
        "    123        | CHAT    | CREATED    | 08:13:33\n",
        "```\n",
        "\n",
        "- After cleaning the data we're able to create the busines report"
      ]
    },
    {
      "cell_type": "markdown",
      "metadata": {
        "id": "RF9L9i25lk74"
      },
      "source": [
        "### Report 1\n",
        "  - Aggregate data by date, event_type and channel\n",
        "  - Count number of messages\n",
        "  - pivot event_type from rows into columns\n",
        "  - schema expected:\n",
        "  \n",
        "```\n",
        "|      date|channel|CLICKED|CREATED|OPEN|RECEIVED|SENT|\n",
        "+----------+-------+-------+-------+----+--------+----+\n",
        "|2024-12-03|    SMS|      4|      4|   1|       1|   5|\n",
        "|2024-12-03|   CHAT|      3|      7|   5|       8|   4|\n",
        "|2024-12-03|   PUSH|   NULL|      3|   4|       3|   4|\n",
        "```"
      ]
    },
    {
      "cell_type": "code",
      "execution_count": null,
      "metadata": {
        "id": "UPHSMSXnTKgu"
      },
      "outputs": [],
      "source": [
        "# report 1\n",
        "# TODO"
      ]
    },
    {
      "cell_type": "markdown",
      "metadata": {
        "id": "bxwOawo2lwQH"
      },
      "source": [
        "## Report 2\n",
        "\n",
        "- Identify the most active users by channel (sorted by number of iterations)\n",
        "- schema expected:\n",
        "\n",
        "```\n",
        "+-------+----------+----+-----+-----+----+---+\n",
        "|user_id|iterations|CHAT|EMAIL|OTHER|PUSH|SMS|\n",
        "+-------+----------+----+-----+-----+----+---+\n",
        "|   1022|         5|   2|    0|    1|   0|  2|\n",
        "|   1004|         4|   1|    1|    1|   1|  0|\n",
        "|   1013|         4|   0|    0|    2|   1|  1|\n",
        "|   1020|         4|   2|    0|    1|   1|  0|\n",
        "```\n"
      ]
    },
    {
      "cell_type": "code",
      "execution_count": null,
      "metadata": {
        "id": "rsS7bkAJmWsW"
      },
      "outputs": [],
      "source": [
        "# report 2\n",
        "# TODO"
      ]
    },
    {
      "cell_type": "markdown",
      "metadata": {
        "id": "a9_kzDbDwDOS"
      },
      "source": [
        "# Challenge 3"
      ]
    },
    {
      "cell_type": "code",
      "execution_count": null,
      "metadata": {
        "id": "Ef0RjFTxwE5y"
      },
      "outputs": [],
      "source": [
        "# Theoretical question:\n",
        "\n",
        "# A new usecase requires the message data to be aggregate in near real time\n",
        "# They want to build a dashboard embedded in the platform website to analyze message data in low latency (few minutes)\n",
        "# This application will access directly the data aggregated by streaming process\n",
        "\n",
        "# Q1:\n",
        "- What would be your suggestion to achieve that using Spark Structure Streaming?\n",
        "Or would you choose a different data processing tool?\n",
        "\n",
        "- Which storage would you use and why? (database?, data lake?, kafka?)\n",
        "\n"
      ]
    }
  ],
  "metadata": {
    "colab": {
      "provenance": [],
      "include_colab_link": true
    },
    "kernelspec": {
      "display_name": "Python 3",
      "name": "python3"
    },
    "language_info": {
      "name": "python"
    }
  },
  "nbformat": 4,
  "nbformat_minor": 0
}